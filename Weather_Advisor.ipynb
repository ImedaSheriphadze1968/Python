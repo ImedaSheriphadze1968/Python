{
  "nbformat": 4,
  "nbformat_minor": 0,
  "metadata": {
    "colab": {
      "provenance": [],
      "gpuType": "T4",
      "authorship_tag": "ABX9TyO5+U57gjRGn/lps+OHlRUA"
    },
    "kernelspec": {
      "name": "python3",
      "display_name": "Python 3"
    },
    "language_info": {
      "name": "python"
    },
    "accelerator": "GPU"
  },
  "cells": [
    {
      "cell_type": "markdown",
      "source": [
        "Простая и интересная программа на русском языке с условными операторами. Назовём её \"Погодный советчик\" — программа, которая советует, что делать в зависимости от температуры."
      ],
      "metadata": {
        "id": "wQFtHTlq406-"
      }
    },
    {
      "cell_type": "code",
      "execution_count": 1,
      "metadata": {
        "colab": {
          "base_uri": "https://localhost:8080/"
        },
        "id": "aPqYL-Ie4YWb",
        "outputId": "9fc12446-a970-4860-9a54-1d3bb81208f3"
      },
      "outputs": [
        {
          "output_type": "stream",
          "name": "stdout",
          "text": [
            "Введите текущую температуру на улице (в градусах Цельсия): 35\n",
            "Жарко! Не забудьте про головной убор и пить побольше воды.\n"
          ]
        }
      ],
      "source": [
        "# Программа: Погодный советчик\n",
        "\n",
        "temp = float(input(\"Введите текущую температуру на улице (в градусах Цельсия): \"))\n",
        "\n",
        "if temp < 0:\n",
        "    print(\"На улице очень холодно! Одевайтесь теплее и не забудьте про шарф.\")\n",
        "elif 0 <= temp < 15:\n",
        "    print(\"Прохладно. Лучше взять куртку или толстый свитер.\")\n",
        "elif 15 <= temp < 25:\n",
        "    print(\"Погода приятная. Можно выйти в лёгкой одежде.\")\n",
        "else:\n",
        "    print(\"Жарко! Не забудьте про головной убор и пить побольше воды.\")\n"
      ]
    }
  ]
}
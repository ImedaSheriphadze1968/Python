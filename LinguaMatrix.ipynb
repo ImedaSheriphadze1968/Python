{
  "nbformat": 4,
  "nbformat_minor": 0,
  "metadata": {
    "colab": {
      "provenance": [],
      "gpuType": "T4",
      "authorship_tag": "ABX9TyMZXz/LvUHXIdG+zV+8Di0S"
    },
    "kernelspec": {
      "name": "python3",
      "display_name": "Python 3"
    },
    "language_info": {
      "name": "python"
    },
    "accelerator": "GPU"
  },
  "cells": [
    {
      "cell_type": "markdown",
      "source": [
        "**Идея:**\n",
        "Пользователь вводит несколько строк текста (например, строки стихов или предложений).\n",
        "Программа:\n",
        "\n",
        "1. Преобразует эти строки в матрицу слов (двумерный список),\n",
        "\n",
        "2. Запрашивает слово для поиска,\n",
        "\n",
        "3. Проверяет:\n",
        "\n",
        "*   Есть ли это слово в тексте?\n",
        "*   Сколько раз оно встречается?\n",
        "*   В каких строках содержится?\n",
        "*   Выводит строки, где это слово встречается.\n",
        "\n",
        "\n",
        "\n"
      ],
      "metadata": {
        "id": "5SFg0FiShny3"
      }
    },
    {
      "cell_type": "code",
      "execution_count": 2,
      "metadata": {
        "colab": {
          "base_uri": "https://localhost:8080/"
        },
        "id": "xsH7wxz6gntt",
        "outputId": "ed2deb5c-1c08-4aec-803c-5cedb9bece8f"
      },
      "outputs": [
        {
          "output_type": "stream",
          "name": "stdout",
          "text": [
            "📚 Анализатор Матрицы Слов\n",
            "\n",
            "Введите минимум 3 строки текста. Чтобы завершить ввод, напишите 'СТОП':\n",
            "Скажи-ка дядя ведь не даром\n",
            "Я Python выучил с каналом\n",
            "Балакирев что раздавал\n",
            "СТОП\n",
            "\n",
            "🔍 Какое слово ищем?: дядя\n",
            "\n",
            "📊 Результаты:\n",
            "Найдено: True\n",
            "Количество вхождений: 1\n",
            "Строки (номера): 1\n",
            "\n",
            "🧾 Строки, содержащие слово:\n",
            "1: Скажи-ка дядя ведь не даром\n"
          ]
        }
      ],
      "source": [
        "print(\"📚 Анализатор Матрицы Слов\\n\")\n",
        "\n",
        "# Ввод строк\n",
        "print(\"Введите минимум 3 строки текста. Чтобы завершить ввод, напишите 'СТОП':\")\n",
        "t = []\n",
        "while True:\n",
        "    line = input()\n",
        "    if line.strip().upper() == \"СТОП\":\n",
        "        break\n",
        "    t.append(line.split())\n",
        "\n",
        "# Поиск слова\n",
        "word = input(\"\\n🔍 Какое слово ищем?: \").strip()\n",
        "\n",
        "# Создание плоского списка и анализ\n",
        "flat_list = sum(t, [])\n",
        "found = word in flat_list\n",
        "count = flat_list.count(word)\n",
        "line_indices = [i for i, row in enumerate(t) if word in row]\n",
        "\n",
        "print(\"\\n📊 Результаты:\")\n",
        "print(\"Найдено:\", found)\n",
        "print(\"Количество вхождений:\", count)\n",
        "\n",
        "if found:\n",
        "    print(\"Строки (номера):\", *[i+1 for i in line_indices])\n",
        "    print(\"\\n🧾 Строки, содержащие слово:\")\n",
        "    for i in line_indices:\n",
        "        print(f\"{i+1}: {' '.join(t[i])}\")\n"
      ]
    }
  ]
}
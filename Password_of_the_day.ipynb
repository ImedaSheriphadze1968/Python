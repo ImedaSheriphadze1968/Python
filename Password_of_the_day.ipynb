{
  "nbformat": 4,
  "nbformat_minor": 0,
  "metadata": {
    "colab": {
      "provenance": [],
      "gpuType": "T4",
      "authorship_tag": "ABX9TyPr6gxPDruilW6U2tZLoQXN"
    },
    "kernelspec": {
      "name": "python3",
      "display_name": "Python 3"
    },
    "language_info": {
      "name": "python"
    },
    "accelerator": "GPU"
  },
  "cells": [
    {
      "cell_type": "markdown",
      "source": [
        "🧠 **Как это работает:**\n",
        "Программа генерирует уникальный пароль каждый день (например, \"d4f7a9c2\")\n",
        "\n",
        "Пароль получается путем хеширования SHA-256 из сегодняшней даты\n",
        "\n",
        "Вы получите доступ только если введете правильный пароль\n"
      ],
      "metadata": {
        "id": "TT96JpX4bule"
      }
    },
    {
      "cell_type": "code",
      "execution_count": 3,
      "metadata": {
        "colab": {
          "base_uri": "https://localhost:8080/"
        },
        "id": "sGU6hQgFZXkW",
        "outputId": "1d8e4478-da57-4c15-d84c-7ec4ec12cdf9"
      },
      "outputs": [
        {
          "output_type": "stream",
          "name": "stdout",
          "text": [
            "🔐 Добро пожаловать в систему!\n",
            "Введите пароль дня: 1968\n",
            "❌ Неверный пароль. Попробуйте снова завтра!\n"
          ]
        }
      ],
      "source": [
        "# Программа: Пароль дня 🔐\n",
        "# Автор: OpenAI + შენ :)\n",
        "\n",
        "from datetime import datetime\n",
        "import hashlib\n",
        "\n",
        "def generate_daily_password():\n",
        "    today = datetime.now().strftime('%Y-%m-%d')\n",
        "    hash_object = hashlib.sha256(today.encode())\n",
        "    password = hash_object.hexdigest()[:8]\n",
        "    return password\n",
        "\n",
        "def main():\n",
        "    print(\"🔐 Добро пожаловать в систему!\")\n",
        "    user_input = input(\"Введите пароль дня: \")\n",
        "\n",
        "    real_password = generate_daily_password()\n",
        "\n",
        "    if user_input == real_password:\n",
        "        print(\"✅ Доступ разрешён. Добро пожаловать!\")\n",
        "    else:\n",
        "        print(\"❌ Неверный пароль. Попробуйте снова завтра!\")\n",
        "\n",
        "if __name__ == \"__main__\":\n",
        "    main()\n"
      ]
    }
  ]
}
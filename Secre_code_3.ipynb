{
  "nbformat": 4,
  "nbformat_minor": 0,
  "metadata": {
    "colab": {
      "provenance": [],
      "gpuType": "T4",
      "authorship_tag": "ABX9TyNoHOiVuPZHrtc95fc//viO"
    },
    "kernelspec": {
      "name": "python3",
      "display_name": "Python 3"
    },
    "language_info": {
      "name": "python"
    },
    "accelerator": "GPU"
  },
  "cells": [
    {
      "cell_type": "markdown",
      "source": [
        "Пользователь вводит целые числа по одному. Программа вычисляет сумму квадратов всех чисел, **кратных 3**, пока не будет введено отрицательное число. Используется моржовый оператор для компактности и эффективности."
      ],
      "metadata": {
        "id": "Q81bOSpOnAwA"
      }
    },
    {
      "cell_type": "code",
      "execution_count": 1,
      "metadata": {
        "colab": {
          "base_uri": "https://localhost:8080/"
        },
        "id": "kqEqKpjKmczy",
        "outputId": "22f0b7f6-5e4d-4ff0-ee5e-e70e8e4cc485"
      },
      "outputs": [
        {
          "output_type": "stream",
          "name": "stdout",
          "text": [
            "🔢 Введите числа по одному. Для выхода введите отрицательное число.\n",
            "Число: 5\n",
            "Число: 2\n",
            "Число: 7\n",
            "Число: 9\n",
            "Число: 4\n",
            "Число: 1\n",
            "Число: 4\n",
            "Число: 5\n",
            "Число: 6\n",
            "Число: -1\n",
            "✨ Сумма квадратов чисел, кратных 3: 117\n"
          ]
        }
      ],
      "source": [
        "print(\"🔢 Введите числа по одному. Для выхода введите отрицательное число.\")\n",
        "s = 0  # сумма квадратов чисел, кратных 3\n",
        "while (x := int(input(\"Число: \"))) >= 0:\n",
        "    if x % 3 == 0:\n",
        "        s += x**2\n",
        "\n",
        "print(\"✨ Сумма квадратов чисел, кратных 3:\", s)\n"
      ]
    },
    {
      "cell_type": "markdown",
      "source": [
        "✨ Сумма квадратов чисел, кратных 3: 117"
      ],
      "metadata": {
        "id": "cWF9ZKDznalg"
      }
    }
  ]
}
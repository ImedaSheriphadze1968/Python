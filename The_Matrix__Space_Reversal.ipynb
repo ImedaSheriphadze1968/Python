{
  "nbformat": 4,
  "nbformat_minor": 0,
  "metadata": {
    "colab": {
      "provenance": [],
      "gpuType": "T4",
      "authorship_tag": "ABX9TyNXZ7IWw1KNUgujWBrCI7Nw"
    },
    "kernelspec": {
      "name": "python3",
      "display_name": "Python 3"
    },
    "language_info": {
      "name": "python"
    },
    "accelerator": "GPU"
  },
  "cells": [
    {
      "cell_type": "markdown",
      "source": [
        "**📌 Пояснение:**\n",
        "1. Матрица задана вручную как список списков (3x5).\n",
        "\n",
        "2. Используется вложенный list comprehension для транспонирования.\n",
        "\n",
        "3. Результат — матрица 5x3, где строки и столбцы поменялись местами.\n",
        "\n",
        "4. Вывод представлен в виде читаемых списков."
      ],
      "metadata": {
        "id": "U4MwQ751tcZ7"
      }
    },
    {
      "cell_type": "code",
      "execution_count": 1,
      "metadata": {
        "colab": {
          "base_uri": "https://localhost:8080/"
        },
        "id": "AVahahmwtGPD",
        "outputId": "acaffc89-34d2-4787-b8bd-96dbc3f8e6a2"
      },
      "outputs": [
        {
          "output_type": "stream",
          "name": "stdout",
          "text": [
            "🔷 Исходная матрица (3x5):\n",
            "[1, 2, 3, 4, 5]\n",
            "[6, 7, 8, 9, 10]\n",
            "[11, 12, 13, 14, 15]\n",
            "\n",
            "🔁 Транспонированная матрица (5x3):\n",
            "[1, 6, 11]\n",
            "[2, 7, 12]\n",
            "[3, 8, 13]\n",
            "[4, 9, 14]\n",
            "[5, 10, 15]\n"
          ]
        }
      ],
      "source": [
        "# 📌 Программа: «Матрица: Переворот Пространства»\n",
        "\n",
        "# Исходная матрица 3x5\n",
        "матрица = [\n",
        "    [1, 2, 3, 4, 5],\n",
        "    [6, 7, 8, 9, 10],\n",
        "    [11, 12, 13, 14, 15]\n",
        "]\n",
        "\n",
        "# Транспонирование матрицы с помощью list comprehension\n",
        "транспонированная = [[матрица[стр][стол] for стр in range(len(матрица))] for стол in range(len(матрица[0]))]\n",
        "\n",
        "# Вывод результата\n",
        "print(\"🔷 Исходная матрица (3x5):\")\n",
        "for строка in матрица:\n",
        "    print(строка)\n",
        "\n",
        "print(\"\\n🔁 Транспонированная матрица (5x3):\")\n",
        "for строка in транспонированная:\n",
        "    print(строка)\n"
      ]
    }
  ]
}
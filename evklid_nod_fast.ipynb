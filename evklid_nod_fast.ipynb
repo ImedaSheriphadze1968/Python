{
  "nbformat": 4,
  "nbformat_minor": 0,
  "metadata": {
    "colab": {
      "provenance": [],
      "gpuType": "T4",
      "authorship_tag": "ABX9TyPPsibS1Y0LuCyVQnixXRw/"
    },
    "kernelspec": {
      "name": "python3",
      "display_name": "Python 3"
    },
    "language_info": {
      "name": "python"
    },
    "accelerator": "GPU"
  },
  "cells": [
    {
      "cell_type": "markdown",
      "source": [
        "Ниже приведена простая программа, реализующая алгоритм Евклида для нахождения наибольшего общего делителя (НОД) двух натуральных чисел."
      ],
      "metadata": {
        "id": "P6hNxfAnQGXO"
      }
    },
    {
      "cell_type": "code",
      "execution_count": 1,
      "metadata": {
        "colab": {
          "base_uri": "https://localhost:8080/"
        },
        "id": "S0mtrMoNPsM0",
        "outputId": "bf19b7b2-7b9c-41e1-cee5-4283f1a2ad24"
      },
      "outputs": [
        {
          "output_type": "stream",
          "name": "stdout",
          "text": [
            "Введите два натуральных числа через пробел: 38 68\n",
            "Наибольший общий делитель (НОД): 2\n"
          ]
        }
      ],
      "source": [
        "# Программа: Быстрый алгоритм Евклида для нахождения НОД\n",
        "# Уникальное имя: evklid_nod_fast\n",
        "\n",
        "def evklid_nod_fast(a, b):\n",
        "    \"\"\"\n",
        "    Функция возвращает наибольший общий делитель (НОД) двух натуральных чисел a и b,\n",
        "    используя алгоритм Евклида.\n",
        "    \"\"\"\n",
        "    while b != 0:\n",
        "        a, b = b, a % b\n",
        "    return a\n",
        "\n",
        "# Чтение двух натуральных чисел с клавиатуры\n",
        "a, b = map(int, input(\"Введите два натуральных числа через пробел: \").split())\n",
        "\n",
        "# Вычисление НОД\n",
        "result = evklid_nod_fast(a, b)\n",
        "\n",
        "# Вывод результата\n",
        "print(\"Наибольший общий делитель (НОД):\", result)\n"
      ]
    }
  ]
}
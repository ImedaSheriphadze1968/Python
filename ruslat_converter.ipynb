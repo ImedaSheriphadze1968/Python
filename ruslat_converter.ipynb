{
  "nbformat": 4,
  "nbformat_minor": 0,
  "metadata": {
    "colab": {
      "provenance": [],
      "gpuType": "T4",
      "authorship_tag": "ABX9TyO7lRXbSQx5f0e+p/3Rfypo"
    },
    "kernelspec": {
      "name": "python3",
      "display_name": "Python 3"
    },
    "language_info": {
      "name": "python"
    },
    "accelerator": "GPU"
  },
  "cells": [
    {
      "cell_type": "markdown",
      "source": [
        "**📌 Что делает программа:**\n",
        "1. Принимает строку с кириллицей и другими символами.\n",
        "\n",
        "2. Переводит русские буквы в латиницу.\n",
        "\n",
        "3. Заменяет символы ?!:;,. на дефис -.\n",
        "\n",
        "4. Удаляет лишние дефисы (например: --- → -).\n",
        "\n",
        "5. Подсчитывает сумму всех чисел, если они есть в строке.\n",
        "\n",
        "6. Возвращает чистую трансформированную строку и сумму чисел в ней.\n",
        "\n"
      ],
      "metadata": {
        "id": "vOF4vchoSxK8"
      }
    },
    {
      "cell_type": "code",
      "execution_count": 1,
      "metadata": {
        "colab": {
          "base_uri": "https://localhost:8080/"
        },
        "id": "L0xUBeSwSqeO",
        "outputId": "1493ce2f-8012-4e59-86af-f2ce5a5cd48e"
      },
      "outputs": [
        {
          "output_type": "stream",
          "name": "stdout",
          "text": [
            "Введите строку на русском: Привет, мир! Это - тестовая строка с числами: 5, 10 и -3.\n",
            "Преобразованная строка: privet-mir-eto-testovaya-stroka-s-chislami-5-10-i-3-\n",
            "Сумма чисел в строке: 12\n"
          ]
        }
      ],
      "source": [
        "from functools import wraps\n",
        "import re\n",
        "\n",
        "# Словарь для транслитерации\n",
        "t = {'ё': 'yo', 'а': 'a', 'б': 'b', 'в': 'v', 'г': 'g', 'д': 'd', 'е': 'e', 'ж': 'zh',\n",
        "     'з': 'z', 'и': 'i', 'й': 'y', 'к': 'k', 'л': 'l', 'м': 'm', 'н': 'n', 'о': 'o', 'п': 'p',\n",
        "     'р': 'r', 'с': 's', 'т': 't', 'у': 'u', 'ф': 'f', 'х': 'h', 'ц': 'c', 'ч': 'ch', 'ш': 'sh',\n",
        "     'щ': 'shch', 'ъ': '', 'ы': 'y', 'ь': '', 'э': 'e', 'ю': 'yu', 'я': 'ya'}\n",
        "\n",
        "# Декоратор для замены символов и очистки дефисов\n",
        "def clean_text_decorator(chars=\"?!:;,. \"):\n",
        "    def decorator(func):\n",
        "        @wraps(func)\n",
        "        def wrapper(text):\n",
        "            result = func(text.lower())\n",
        "            for ch in chars:\n",
        "                result = result.replace(ch, '-')\n",
        "            result = re.sub(r'-{2,}', '-', result)\n",
        "            return result\n",
        "        return wrapper\n",
        "    return decorator\n",
        "\n",
        "# Декоратор для подсчета суммы чисел\n",
        "def number_sum_decorator(func):\n",
        "    @wraps(func)\n",
        "    def wrapper(text):\n",
        "        result = func(text)\n",
        "        numbers = list(map(int, re.findall(r'-?\\d+', text)))\n",
        "        total = sum(numbers)\n",
        "        return result, total\n",
        "    return wrapper\n",
        "\n",
        "# Основная функция: транслитерация\n",
        "@number_sum_decorator\n",
        "@clean_text_decorator(chars=\"?!:;,. \")\n",
        "def rus_to_lat(text):\n",
        "    return ''.join(t.get(ch, ch) for ch in text)\n",
        "\n",
        "# Ввод пользователя\n",
        "s = input(\"Введите строку на русском: \")\n",
        "converted, total = rus_to_lat(s)\n",
        "\n",
        "print(\"Преобразованная строка:\", converted)\n",
        "print(\"Сумма чисел в строке:\", total)\n"
      ]
    }
  ]
}
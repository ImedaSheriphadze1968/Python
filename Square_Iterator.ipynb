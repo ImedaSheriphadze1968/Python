{
  "nbformat": 4,
  "nbformat_minor": 0,
  "metadata": {
    "colab": {
      "provenance": [],
      "gpuType": "T4",
      "authorship_tag": "ABX9TyNOuloOycQXMQHgLxMBLtIr"
    },
    "kernelspec": {
      "name": "python3",
      "display_name": "Python 3"
    },
    "language_info": {
      "name": "python"
    },
    "accelerator": "GPU"
  },
  "cells": [
    {
      "cell_type": "markdown",
      "source": [
        "Программа запрашивает у пользователя список чисел через пробел, создаёт итератор по этим числам, затем с помощью генератора списков формирует новый список, где каждый элемент — квадрат исходного числа. После этого программа выводит каждый элемент нового списка на отдельной строке с указанием индекса."
      ],
      "metadata": {
        "id": "ZFZ7xcY8c8jD"
      }
    },
    {
      "cell_type": "code",
      "execution_count": 1,
      "metadata": {
        "colab": {
          "base_uri": "https://localhost:8080/"
        },
        "id": "xnegIktbcx6q",
        "outputId": "e003d142-bc4b-41c5-b73f-1519282d1ed7"
      },
      "outputs": [
        {
          "output_type": "stream",
          "name": "stdout",
          "text": [
            "Введите числа через пробел: 12 23 45 61 15\n",
            "Квадрат числа под индексом 1: 144\n",
            "Квадрат числа под индексом 2: 529\n",
            "Квадрат числа под индексом 3: 2025\n",
            "Квадрат числа под индексом 4: 3721\n",
            "Квадрат числа под индексом 5: 225\n"
          ]
        }
      ],
      "source": [
        "# Запрашиваем у пользователя числа через пробел и создаём список чисел\n",
        "numbers = input(\"Введите числа через пробел: \").split()\n",
        "\n",
        "# Создаём итератор по списку строк (чисел)\n",
        "it = iter(numbers)\n",
        "\n",
        "# Используем генератор списка для создания списка квадратов чисел (конвертируем в int)\n",
        "squares = [int(x)**2 for x in it]\n",
        "\n",
        "# Выводим результат с помощью цикла for и функции enumerate\n",
        "for i, val in enumerate(squares, 1):\n",
        "    print(f\"Квадрат числа под индексом {i}: {val}\")\n"
      ]
    }
  ]
}